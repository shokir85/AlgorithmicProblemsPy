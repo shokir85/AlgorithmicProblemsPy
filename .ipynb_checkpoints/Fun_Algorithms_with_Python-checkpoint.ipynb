{
 "cells": [
  {
   "cell_type": "markdown",
   "metadata": {},
   "source": [
    "# Primtive Types: Bitwise Operators"
   ]
  },
  {
   "cell_type": "markdown",
   "metadata": {},
   "source": [
    "1. Write a function to count the number of bits that are set to 1\n",
    "in a positive integer. The function test bits one-at a time starting\n",
    "with the least significant bit."
   ]
  },
  {
   "cell_type": "code",
   "execution_count": 60,
   "metadata": {},
   "outputs": [],
   "source": [
    "def count_bits(x):\n",
    "    num_bits = 0\n",
    "    while x:\n",
    "        num_bits += x & 1\n",
    "        x = x >> 1\n",
    "    return num_bits\n",
    "count_bits(100)"
   ]
  },
  {
   "cell_type": "markdown",
   "metadata": {},
   "source": [
    "2. Computing the parity of a word\n",
    "\n",
    "The brute force algorithm iteratively tests the value of each bit while tracking the number of 1s seen so far. Uses XOR (^) and\n",
    "AND (&) bitwise operators.\n",
    "\n",
    "^ : (0,0) = 0, (1,1) = 0, (1,0) = 1\n",
    "\n",
    "& : (1,1) = 1, (0,1), (0,0), (1,0)=0\n"
   ]
  },
  {
   "cell_type": "code",
   "execution_count": 4,
   "metadata": {},
   "outputs": [],
   "source": [
    "def parity_1(x):\n",
    "    result = 0\n",
    "    while x: \n",
    "        result = result ^ (x & 1)\n",
    "        x = x >> 1\n",
    "    return result\n",
    "parity_1(16)"
   ]
  },
  {
   "cell_type": "markdown",
   "metadata": {},
   "source": [
    "The next algorithm calculates parity based on erasing the lowest bit in a word in a single operation"
   ]
  },
  {
   "cell_type": "code",
   "execution_count": 5,
   "metadata": {},
   "outputs": [],
   "source": [
    "def parity_2(x):\n",
    "    result = 0\n",
    "    while x:\n",
    "        result = result ^ 1\n",
    "        x = x & (x - 1)\n",
    "        print('x: ',x)\n",
    "    return result\n",
    "parity_2(3)"
   ]
  },
  {
   "cell_type": "code",
   "execution_count": 24,
   "metadata": {},
   "outputs": [],
   "source": [
    "def parity_3(x): \n",
    "    x = x ^ (x >> 32)\n",
    "    x = x ^ (x >> 16)\n",
    "    x = x ^ (x >> 8)\n",
    "    x = x ^ (x >> 4)\n",
    "    x = x ^ (x >> 2)\n",
    "    x = x ^ (x >> 1)\n",
    "    return x & 0x1"
   ]
  },
  {
   "cell_type": "markdown",
   "metadata": {},
   "source": [
    "Problem #1: Right propagate the rightmost set bit in x, for example: 01010000 turns to 01011111 in binary"
   ]
  },
  {
   "cell_type": "code",
   "execution_count": 43,
   "metadata": {},
   "outputs": [],
   "source": [
    "def propagate_rightmost_set_bit(x): \n",
    "    return (x | (x - 1))"
   ]
  },
  {
   "cell_type": "markdown",
   "metadata": {},
   "source": [
    "Problem #2: Compute x mod a power of two. For example 77 mod 64 returns 13.\n",
    " \n",
    "if pow = 6, then 1 << 6 = 1000000 = 64 -> 64 -1 = 63 = 0111111"
   ]
  },
  {
   "cell_type": "code",
   "execution_count": 53,
   "metadata": {},
   "outputs": [
    {
     "data": {
      "text/plain": [
       "14"
      ]
     },
     "execution_count": 53,
     "metadata": {},
     "output_type": "execute_result"
    }
   ],
   "source": [
    "def mod_pow_of_two(x, pow):\n",
    "    return x & ((1 << pow) - 1)\n",
    "mod_pow_of_two(46, 5)"
   ]
  },
  {
   "cell_type": "markdown",
   "metadata": {},
   "source": [
    "Problem #3: Test if x is the power of 2, for example, evaluates to true for x =1, 2,4 ,8..., false for all other values"
   ]
  },
  {
   "cell_type": "code",
   "execution_count": 58,
   "metadata": {},
   "outputs": [
    {
     "data": {
      "text/plain": [
       "True"
      ]
     },
     "execution_count": 58,
     "metadata": {},
     "output_type": "execute_result"
    }
   ],
   "source": [
    "def is_pow_of_two(x):\n",
    "    return x & (x -1) == 0\n",
    "is_pow_of_two(1)"
   ]
  },
  {
   "cell_type": "code",
   "execution_count": null,
   "metadata": {},
   "outputs": [],
   "source": []
  }
 ],
 "metadata": {
  "kernelspec": {
   "display_name": "Python 3",
   "language": "python",
   "name": "python3"
  },
  "language_info": {
   "codemirror_mode": {
    "name": "ipython",
    "version": 3
   },
   "file_extension": ".py",
   "mimetype": "text/x-python",
   "name": "python",
   "nbconvert_exporter": "python",
   "pygments_lexer": "ipython3",
   "version": "3.8.5"
  }
 },
 "nbformat": 4,
 "nbformat_minor": 4
}
