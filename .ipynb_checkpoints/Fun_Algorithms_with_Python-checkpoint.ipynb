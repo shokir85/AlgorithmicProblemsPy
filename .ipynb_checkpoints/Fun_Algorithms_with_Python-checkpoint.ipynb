{
 "cells": [
  {
   "cell_type": "markdown",
   "metadata": {},
   "source": [
    "# Primtive Types: Bitwise Operators"
   ]
  },
  {
   "cell_type": "markdown",
   "metadata": {},
   "source": [
    "1. Write a function to count the number of bits that are set to 1\n",
    "in a positive integer. The function test bits one-at a time starting\n",
    "with the least significant bit."
   ]
  },
  {
   "cell_type": "code",
   "execution_count": 60,
   "metadata": {},
   "outputs": [],
   "source": [
    "def count_bits(x):\n",
    "    num_bits = 0\n",
    "    while x:\n",
    "        num_bits += x & 1\n",
    "        x = x >> 1\n",
    "    return num_bits\n",
    "count_bits(100)"
   ]
  },
  {
   "cell_type": "markdown",
   "metadata": {},
   "source": [
    "2. Computing the parity of a word\n",
    "\n",
    "The brute force algorithm iteratively tests the value of each bit while tracking the number of 1s seen so far. Uses XOR (^) and\n",
    "AND (&) bitwise operators.\n",
    "\n",
    "^ : (0,0) = 0, (1,1) = 0, (1,0) = 1\n",
    "\n",
    "& : (1,1) = 1, (0,1), (0,0), (1,0)=0\n"
   ]
  },
  {
   "cell_type": "code",
   "execution_count": 4,
   "metadata": {},
   "outputs": [],
   "source": [
    "def parity_1(x):\n",
    "    result = 0\n",
    "    while x: \n",
    "        result = result ^ (x & 1)\n",
    "        x = x >> 1\n",
    "    return result\n",
    "parity_1(16)"
   ]
  },
  {
   "cell_type": "markdown",
   "metadata": {},
   "source": [
    "The next algorithm calculates parity based on erasing the lowest bit in a word in a single operation"
   ]
  },
  {
   "cell_type": "code",
   "execution_count": 5,
   "metadata": {},
   "outputs": [],
   "source": [
    "def parity_2(x):\n",
    "    result = 0\n",
    "    while x:\n",
    "        result = result ^ 1\n",
    "        x = x & (x - 1)\n",
    "        print('x: ',x)\n",
    "    return result\n",
    "parity_2(3)"
   ]
  },
  {
   "cell_type": "code",
   "execution_count": 24,
   "metadata": {},
   "outputs": [],
   "source": [
    "def parity_3(x): \n",
    "    x = x ^ (x >> 32)\n",
    "    x = x ^ (x >> 16)\n",
    "    x = x ^ (x >> 8)\n",
    "    x = x ^ (x >> 4)\n",
    "    x = x ^ (x >> 2)\n",
    "    x = x ^ (x >> 1)\n",
    "    return x & 0x1"
   ]
  },
  {
   "cell_type": "markdown",
   "metadata": {},
   "source": [
    "Problem #1: Right propagate the rightmost set bit in x, for example: 01010000 turns to 01011111 in binary"
   ]
  },
  {
   "cell_type": "code",
   "execution_count": 43,
   "metadata": {},
   "outputs": [],
   "source": [
    "def propagate_rightmost_set_bit(x): \n",
    "    return (x | (x - 1))"
   ]
  },
  {
   "cell_type": "markdown",
   "metadata": {},
   "source": [
    "Problem #2: Compute x mod a power of two. For example 77 mod 64 returns 13.\n",
    " \n",
    "if pow = 6, then 1 << 6 = 1000000 = 64 -> 64 -1 = 63 = 0111111"
   ]
  },
  {
   "cell_type": "code",
   "execution_count": 53,
   "metadata": {},
   "outputs": [
    {
     "data": {
      "text/plain": [
       "14"
      ]
     },
     "execution_count": 53,
     "metadata": {},
     "output_type": "execute_result"
    }
   ],
   "source": [
    "def mod_pow_of_two(x, pow):\n",
    "    return x & ((1 << pow) - 1)\n",
    "mod_pow_of_two(46, 5)"
   ]
  },
  {
   "cell_type": "code",
   "execution_count": 5,
   "metadata": {},
   "outputs": [
    {
     "data": {
      "text/plain": [
       "2"
      ]
     },
     "execution_count": 5,
     "metadata": {},
     "output_type": "execute_result"
    }
   ],
   "source": [
    "1 << 1"
   ]
  },
  {
   "cell_type": "markdown",
   "metadata": {},
   "source": [
    "Problem #3: Test if x is the power of 2, for example, evaluates to true for x =1, 2,4 ,8..., false for all other values"
   ]
  },
  {
   "cell_type": "code",
   "execution_count": 58,
   "metadata": {},
   "outputs": [
    {
     "data": {
      "text/plain": [
       "True"
      ]
     },
     "execution_count": 58,
     "metadata": {},
     "output_type": "execute_result"
    }
   ],
   "source": [
    "def is_pow_of_two(x):\n",
    "    return x & (x -1) == 0\n",
    "is_pow_of_two(1)"
   ]
  },
  {
   "cell_type": "markdown",
   "metadata": {},
   "source": [
    "EPI 4.2: Swapping Bits"
   ]
  },
  {
   "cell_type": "code",
   "execution_count": 68,
   "metadata": {},
   "outputs": [
    {
     "data": {
      "text/plain": [
       "15"
      ]
     },
     "execution_count": 68,
     "metadata": {},
     "output_type": "execute_result"
    }
   ],
   "source": [
    "def swap_bits(x, i, j):\n",
    "     # Extract the i-th and j-th bits, and see if they differ\n",
    "    if (x >> i) & 1 != (x >> j) & 1:\n",
    "        \n",
    "        # i-th and j-th bits differ. We will swap them by flipping their values\n",
    "        # Select the bits to flip with bit_mask. Since x ^ 1 = 0 when x = 1, \n",
    "        #and 1 when x = 0, we can perform the flip XOR\n",
    "        \n",
    "        bit_mask = (1 << i) | (1 << j)\n",
    "        x = x ^ bit_mask\n",
    "    return x\n",
    "swap_bits(43, 5,2)"
   ]
  },
  {
   "cell_type": "code",
   "execution_count": 10,
   "metadata": {},
   "outputs": [
    {
     "data": {
      "text/plain": [
       "0.0"
      ]
     },
     "execution_count": 10,
     "metadata": {},
     "output_type": "execute_result"
    }
   ],
   "source": [
    "import math\n",
    "math.modf(math.log10(27) / math.log10(3))[0]"
   ]
  },
  {
   "cell_type": "code",
   "execution_count": 18,
   "metadata": {},
   "outputs": [
    {
     "data": {
      "text/plain": [
       "True"
      ]
     },
     "execution_count": 18,
     "metadata": {},
     "output_type": "execute_result"
    }
   ],
   "source": [
    "def isPowerOfFour(n):\n",
    "    if n & (n-1) != 0: \n",
    "        return False\n",
    "    zero_count = 0\n",
    "    while (n&1 == 0):\n",
    "        zero_count += 1\n",
    "        n = n >> 1\n",
    "    return (zero_count % 2 == 0)\n",
    "isPowerOfFour(4*64)"
   ]
  },
  {
   "cell_type": "code",
   "execution_count": 24,
   "metadata": {},
   "outputs": [
    {
     "data": {
      "text/plain": [
       "2"
      ]
     },
     "execution_count": 24,
     "metadata": {},
     "output_type": "execute_result"
    }
   ],
   "source": [
    "import math\n",
    "round(math.log10(16)/math.log10(4))"
   ]
  },
  {
   "cell_type": "code",
   "execution_count": 25,
   "metadata": {},
   "outputs": [
    {
     "data": {
      "text/plain": [
       "2.0"
      ]
     },
     "execution_count": 25,
     "metadata": {},
     "output_type": "execute_result"
    }
   ],
   "source": [
    "math.log10(n)/math.log10(3)"
   ]
  },
  {
   "cell_type": "code",
   "execution_count": 116,
   "metadata": {},
   "outputs": [],
   "source": [
    "def revbits(n):\n",
    "    bits = 10\n",
    "    bitL = []\n",
    "    while bits:\n",
    "        bitL.append(n & 1)\n",
    "        n >>= 1\n",
    "        bits -= 1\n",
    "    rev = 0\n",
    "    print(bitL)\n",
    "    for bit in bitL:\n",
    "        rev <<= 1\n",
    "        rev = rev | bit\n",
    "    return rev"
   ]
  },
  {
   "cell_type": "code",
   "execution_count": 119,
   "metadata": {},
   "outputs": [
    {
     "name": "stdout",
     "output_type": "stream",
     "text": [
      "[0, 0, 1, 0, 0, 0, 0, 0, 0, 0]\n",
      "128\n"
     ]
    }
   ],
   "source": [
    "print(revbits(4))"
   ]
  },
  {
   "cell_type": "code",
   "execution_count": 120,
   "metadata": {},
   "outputs": [
    {
     "data": {
      "text/plain": [
       "23"
      ]
     },
     "execution_count": 120,
     "metadata": {},
     "output_type": "execute_result"
    }
   ],
   "source": [
    "def closest_int_same_bit(x):\n",
    "    num_signed_bits = 64\n",
    "    \n",
    "    for i in range(num_signed_bits - 1):\n",
    "        \n",
    "        if (x >> i) & 1 != (x >> (i + 1)) & 1:\n",
    "            \n",
    "            x ^= (1 << i) | (1 << (i + 1))\n",
    "            \n",
    "            return x\n",
    "    raise ValueError('All bits are 0 or 1')\n",
    "closest_int_same_bit(15)"
   ]
  },
  {
   "cell_type": "code",
   "execution_count": 56,
   "metadata": {},
   "outputs": [],
   "source": [
    "def missingNumber(nums):\n",
    "    num_set = set(nums)\n",
    "    n = len(nums) + 1\n",
    "    for number in range(n):\n",
    "        if number not in num_set:\n",
    "            return number"
   ]
  },
  {
   "cell_type": "markdown",
   "metadata": {},
   "source": [
    "# Compute X * Y without arithmetic operations"
   ]
  },
  {
   "cell_type": "code",
   "execution_count": 95,
   "metadata": {},
   "outputs": [
    {
     "data": {
      "text/plain": [
       "10153"
      ]
     },
     "execution_count": 95,
     "metadata": {},
     "output_type": "execute_result"
    }
   ],
   "source": [
    "def multiply(a, b):\n",
    "    \n",
    "    def add(x,y):\n",
    "        while y:\n",
    "            # carry now contains common\n",
    "            # set bits of x and y\n",
    "            carry = x & y\n",
    "            # Sum of bits of x and y where at\n",
    "            # least one of the bits is not set\n",
    "            x = x ^ y\n",
    "            # Carry is shifted by one so that  \n",
    "            # adding it to x gives the required sum\n",
    "            y = carry << 1\n",
    "        return x\n",
    "    \n",
    "    prod = 0\n",
    "    while b: \n",
    "        \n",
    "        # If second number becomes\n",
    "        # odd, add the first number\n",
    "        # to result\n",
    "        if(b & 1): \n",
    "            prod = add(prod, a)\n",
    "        # Double the first number\n",
    "        # and halve the second number\n",
    "        a, b = a << 1, b >> 1\n",
    "    return prod\n",
    "multiply(13, 781)"
   ]
  },
  {
   "cell_type": "code",
   "execution_count": 121,
   "metadata": {},
   "outputs": [
    {
     "data": {
      "text/plain": [
       "250"
      ]
     },
     "execution_count": 121,
     "metadata": {},
     "output_type": "execute_result"
    }
   ],
   "source": [
    "def divide(a, b):\n",
    "    count = 0\n",
    "    while a:\n",
    "        a = a - b\n",
    "        count += 1\n",
    "    return count\n",
    "divide(1000,4)"
   ]
  },
  {
   "cell_type": "code",
   "execution_count": 132,
   "metadata": {},
   "outputs": [
    {
     "name": "stdout",
     "output_type": "stream",
     "text": [
      "4 1\n"
     ]
    }
   ],
   "source": [
    "#Given a non-empty array of integers nums, every element appears twice except for one. Find that single one.\n",
    "#Follow up: Could you implement a solution with a linear runtime complexity and without using extra memory?\n",
    "class Solution:\n",
    "    def singleNumber(self, nums: List[int]) -> int:\n",
    "        freq = {}\n",
    "        for num in nums:\n",
    "            if num in freq:\n",
    "                freq[num] +=1\n",
    "            else:\n",
    "                freq[num] = 1\n",
    "        for key, value in freq.items():\n",
    "            if value == 1: return key\n",
    "\n",
    "class Solution:\n",
    "    def singleNumber(self, nums: List[int]) -> int:\n",
    "        freq = {}\n",
    "        for num in nums:\n",
    "            freq[num] = nums.count(num)\n",
    "        for key, value in freq.items():\n",
    "            if value == 1: return key"
   ]
  },
  {
   "cell_type": "code",
   "execution_count": null,
   "metadata": {},
   "outputs": [],
   "source": [
    "def singleNumber(self, nums):\n",
    "    \"\"\"\n",
    "    :type nums: List[int]\n",
    "    :rtype: int\n",
    "    \"\"\"\n",
    "    return 2 * sum(set(nums)) - sum(nums)"
   ]
  },
  {
   "cell_type": "code",
   "execution_count": null,
   "metadata": {},
   "outputs": [],
   "source": [
    "#Given an array of integers nums containing n + 1 integers where each integer is in the range [1, n] inclusive.\n",
    "\n",
    "#There is only one repeated number in nums, return this repeated number.\n",
    "class Solution:\n",
    "    def findDuplicate(self, nums: List[int]) -> int:\n",
    "        freq = {}\n",
    "        for num in nums: \n",
    "            if num in freq: \n",
    "                freq[num] += 1\n",
    "            else: \n",
    "                freq[num] = 1\n",
    "        for key, value in freq.items():\n",
    "            if value >= 2: return key"
   ]
  },
  {
   "cell_type": "code",
   "execution_count": 198,
   "metadata": {},
   "outputs": [
    {
     "data": {
      "text/plain": [
       "-5"
      ]
     },
     "execution_count": 198,
     "metadata": {},
     "output_type": "execute_result"
    }
   ],
   "source": [
    "\n",
    "#Given two positive integers, compute their quotient, using only the addition, subtraction, and shifting operations\n",
    "def divide1(dividend,divisor):\n",
    "    if (dividend ==-2147483648) and (divisor == -1):\n",
    "        return abs(dividend) - 1\n",
    "    res = 0\n",
    "    power = 64\n",
    "    x = abs(dividend)\n",
    "    y = abs(divisor)\n",
    "    y_power = y << power\n",
    "    while x >= y:\n",
    "        while y_power > x: \n",
    "            y_power >>= 1\n",
    "            power = power - 1\n",
    "        res += 1 << power\n",
    "        x -= y_power\n",
    "    if (dividend >= 0) == (divisor >= 0):\n",
    "        return res\n",
    "    else:\n",
    "        return -res\n",
    "divide1(-16,3)"
   ]
  },
  {
   "cell_type": "code",
   "execution_count": 207,
   "metadata": {},
   "outputs": [
    {
     "data": {
      "text/plain": [
       "-5"
      ]
     },
     "execution_count": 207,
     "metadata": {},
     "output_type": "execute_result"
    }
   ],
   "source": [
    "#Given two positive integers, compute their quotient, using only the addition, subtraction, and shifting operations\n",
    "def divide2(dividend,divisor):\n",
    "    if (dividend ==-2147483648) and (divisor == -1):\n",
    "        return abs(dividend) - 1\n",
    "    res = 0\n",
    "    power = 64\n",
    "    x = abs(dividend)\n",
    "    y = abs(divisor)\n",
    "    while x >= y:\n",
    "        power = 0\n",
    "        while x - (y << 1 << power) >= 0:\n",
    "            power += 1\n",
    "        res += 1 << power\n",
    "        x -= y << power\n",
    "    if (dividend >= 0) == (divisor >= 0):\n",
    "        return res\n",
    "    else:\n",
    "        return -res\n",
    "divide2(-16,3)"
   ]
  },
  {
   "cell_type": "code",
   "execution_count": 215,
   "metadata": {},
   "outputs": [
    {
     "data": {
      "text/plain": [
       "243"
      ]
     },
     "execution_count": 215,
     "metadata": {},
     "output_type": "execute_result"
    }
   ],
   "source": [
    "def power(x, y):\n",
    "    res = x\n",
    "    while y > 1:\n",
    "        res = res * x\n",
    "        y -= 1\n",
    "    return res\n",
    "power(3,5)\n",
    "        "
   ]
  },
  {
   "cell_type": "code",
   "execution_count": null,
   "metadata": {},
   "outputs": [],
   "source": [
    "class Solution:\n",
    "    def myPow(self, x: float, n: int) -> float:\n",
    "        result = 1\n",
    "        power = n\n",
    "        if n < 0:\n",
    "            power = - power\n",
    "            x = 1 / x\n",
    "        while power:\n",
    "            if power & 1:\n",
    "                result = result * x\n",
    "            x = x * x\n",
    "            power >>= 1\n",
    "        return result"
   ]
  }
 ],
 "metadata": {
  "kernelspec": {
   "display_name": "Python 3",
   "language": "python",
   "name": "python3"
  },
  "language_info": {
   "codemirror_mode": {
    "name": "ipython",
    "version": 3
   },
   "file_extension": ".py",
   "mimetype": "text/x-python",
   "name": "python",
   "nbconvert_exporter": "python",
   "pygments_lexer": "ipython3",
   "version": "3.8.5"
  }
 },
 "nbformat": 4,
 "nbformat_minor": 4
}
